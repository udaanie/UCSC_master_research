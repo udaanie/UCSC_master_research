{
  "nbformat": 4,
  "nbformat_minor": 0,
  "metadata": {
    "colab": {
      "name": "Linear Regression Forecasting.ipynb",
      "provenance": [],
      "collapsed_sections": [],
      "authorship_tag": "ABX9TyPtuSv4tzfP4i1uiwrmUK37",
      "include_colab_link": true
    },
    "kernelspec": {
      "name": "python3",
      "display_name": "Python 3"
    },
    "language_info": {
      "name": "python"
    }
  },
  "cells": [
    {
      "cell_type": "markdown",
      "metadata": {
        "id": "view-in-github",
        "colab_type": "text"
      },
      "source": [
        "<a href=\"https://colab.research.google.com/github/udaanie/hello-world/blob/master/Linear_Regression_Forecasting.ipynb\" target=\"_parent\"><img src=\"https://colab.research.google.com/assets/colab-badge.svg\" alt=\"Open In Colab\"/></a>"
      ]
    },
    {
      "cell_type": "code",
      "metadata": {
        "id": "wYPdb9YgMOQS"
      },
      "source": [
        "import pandas as pd\n",
        "import numpy as np\n",
        "import seaborn as sns\n",
        "import matplotlib.pyplot as plt\n",
        "%matplotlib inline\n",
        "from sklearn import linear_model\n",
        "import warnings\n",
        "warnings.filterwarnings(\"ignore\")\n",
        "from math import sqrt\n",
        "from sklearn.model_selection import train_test_split\n",
        "from sklearn import metrics\n",
        "from sklearn.metrics import r2_score\n"
      ],
      "execution_count": null,
      "outputs": []
    },
    {
      "cell_type": "code",
      "metadata": {
        "id": "CkxzD45CcOGk"
      },
      "source": [
        "#Loading the dataset\n",
        "electricity=pd.read_csv(\"Data Set for research.csv\", index_col=False)"
      ],
      "execution_count": null,
      "outputs": []
    },
    {
      "cell_type": "code",
      "metadata": {
        "colab": {
          "base_uri": "https://localhost:8080/",
          "height": 224
        },
        "id": "ajxqJxVEcdX1",
        "outputId": "a21dd349-9b88-47b7-d9f9-65bbd08bc97c"
      },
      "source": [
        "#Read the dataset\n",
        "print('Shape of Data',electricity.shape)\n",
        "electricity.head()"
      ],
      "execution_count": null,
      "outputs": [
        {
          "output_type": "stream",
          "name": "stdout",
          "text": [
            "Shape of Data (50, 4)\n"
          ]
        },
        {
          "output_type": "execute_result",
          "data": {
            "text/html": [
              "<div>\n",
              "<style scoped>\n",
              "    .dataframe tbody tr th:only-of-type {\n",
              "        vertical-align: middle;\n",
              "    }\n",
              "\n",
              "    .dataframe tbody tr th {\n",
              "        vertical-align: top;\n",
              "    }\n",
              "\n",
              "    .dataframe thead th {\n",
              "        text-align: right;\n",
              "    }\n",
              "</style>\n",
              "<table border=\"1\" class=\"dataframe\">\n",
              "  <thead>\n",
              "    <tr style=\"text-align: right;\">\n",
              "      <th></th>\n",
              "      <th>Year</th>\n",
              "      <th>Consumers</th>\n",
              "      <th>GDP</th>\n",
              "      <th>Sales</th>\n",
              "    </tr>\n",
              "  </thead>\n",
              "  <tbody>\n",
              "    <tr>\n",
              "      <th>0</th>\n",
              "      <td>1969</td>\n",
              "      <td>1888</td>\n",
              "      <td>1859465021</td>\n",
              "      <td>297</td>\n",
              "    </tr>\n",
              "    <tr>\n",
              "      <th>1</th>\n",
              "      <td>1970</td>\n",
              "      <td>2116</td>\n",
              "      <td>1801344538</td>\n",
              "      <td>331</td>\n",
              "    </tr>\n",
              "    <tr>\n",
              "      <th>2</th>\n",
              "      <td>1971</td>\n",
              "      <td>2235</td>\n",
              "      <td>1965546218</td>\n",
              "      <td>373</td>\n",
              "    </tr>\n",
              "    <tr>\n",
              "      <th>3</th>\n",
              "      <td>1972</td>\n",
              "      <td>2482</td>\n",
              "      <td>2296470588</td>\n",
              "      <td>419</td>\n",
              "    </tr>\n",
              "    <tr>\n",
              "      <th>4</th>\n",
              "      <td>1973</td>\n",
              "      <td>2658</td>\n",
              "      <td>2369308600</td>\n",
              "      <td>437</td>\n",
              "    </tr>\n",
              "  </tbody>\n",
              "</table>\n",
              "</div>"
            ],
            "text/plain": [
              "   Year  Consumers         GDP  Sales\n",
              "0  1969       1888  1859465021    297\n",
              "1  1970       2116  1801344538    331\n",
              "2  1971       2235  1965546218    373\n",
              "3  1972       2482  2296470588    419\n",
              "4  1973       2658  2369308600    437"
            ]
          },
          "metadata": {},
          "execution_count": 4
        }
      ]
    },
    {
      "cell_type": "markdown",
      "metadata": {
        "id": "tpv3fdWBcqSA"
      },
      "source": [
        "## **Data Preprocessing**"
      ]
    },
    {
      "cell_type": "code",
      "metadata": {
        "colab": {
          "base_uri": "https://localhost:8080/"
        },
        "id": "xrl4ntHccvVL",
        "outputId": "b839cdae-61fc-4a0c-962b-0a1199493fb7"
      },
      "source": [
        "#Search for missing values\n",
        "electricity.info()"
      ],
      "execution_count": null,
      "outputs": [
        {
          "output_type": "stream",
          "name": "stdout",
          "text": [
            "<class 'pandas.core.frame.DataFrame'>\n",
            "RangeIndex: 50 entries, 0 to 49\n",
            "Data columns (total 4 columns):\n",
            " #   Column     Non-Null Count  Dtype\n",
            "---  ------     --------------  -----\n",
            " 0   Year       50 non-null     int64\n",
            " 1   Consumers  50 non-null     int64\n",
            " 2   GDP        50 non-null     int64\n",
            " 3   Sales      50 non-null     int64\n",
            "dtypes: int64(4)\n",
            "memory usage: 1.7 KB\n"
          ]
        }
      ]
    },
    {
      "cell_type": "code",
      "metadata": {
        "id": "2bPiDcqKc52Q"
      },
      "source": [
        "def missing_values_table(df):\n",
        "        # Total missing values\n",
        "        mis_val = df.isnull().sum()\n",
        "        \n",
        "        # Percentage of missing values\n",
        "        mis_val_percent = 100 * df.isnull().sum() / len(df)\n",
        "        \n",
        "        # Make a table with the results\n",
        "        mis_val_table = pd.concat([mis_val, mis_val_percent], axis=1)\n",
        "        \n",
        "        # Rename the columns\n",
        "        mis_val_table_ren_columns = mis_val_table.rename(\n",
        "        columns = {0 : 'Missing Values', 1 : '% of Total Values'})\n",
        "        \n",
        "        # Sort the table by percentage of missing descending\n",
        "        mis_val_table_ren_columns = mis_val_table_ren_columns[\n",
        "            mis_val_table_ren_columns.iloc[:,1] != 0].sort_values(\n",
        "        '% of Total Values', ascending=False).round(1)\n",
        "        \n",
        "        # Print some summary information\n",
        "        print (\"Your selected dataframe has \" + str(df.shape[1]) + \" columns.\\n\"      \n",
        "            \"There are \" + str(mis_val_table_ren_columns.shape[0]) +\n",
        "              \" columns that have missing values.\")\n",
        "        \n",
        "        # Return the dataframe with missing information\n",
        "        return mis_val_table_ren_columns"
      ],
      "execution_count": null,
      "outputs": []
    },
    {
      "cell_type": "code",
      "metadata": {
        "colab": {
          "base_uri": "https://localhost:8080/"
        },
        "id": "TfVFARudc-wU",
        "outputId": "783a55c4-f3ea-4ae3-9025-850296e63f0a"
      },
      "source": [
        "missing_values = missing_values_table(electricity)"
      ],
      "execution_count": null,
      "outputs": [
        {
          "output_type": "stream",
          "name": "stdout",
          "text": [
            "Your selected dataframe has 4 columns.\n",
            "There are 0 columns that have missing values.\n"
          ]
        }
      ]
    },
    {
      "cell_type": "code",
      "metadata": {
        "colab": {
          "base_uri": "https://localhost:8080/",
          "height": 206
        },
        "id": "PMlMG1aEdAvg",
        "outputId": "6c838711-83ac-49c6-ea7f-83dde67f9f08"
      },
      "source": [
        "#Dropping unwanted columns\n",
        "drop_cols = ['Consumers','GDP']\n",
        "electricity.drop(drop_cols, axis=1, inplace=True)\n",
        "electricity.head()"
      ],
      "execution_count": null,
      "outputs": [
        {
          "output_type": "execute_result",
          "data": {
            "text/html": [
              "<div>\n",
              "<style scoped>\n",
              "    .dataframe tbody tr th:only-of-type {\n",
              "        vertical-align: middle;\n",
              "    }\n",
              "\n",
              "    .dataframe tbody tr th {\n",
              "        vertical-align: top;\n",
              "    }\n",
              "\n",
              "    .dataframe thead th {\n",
              "        text-align: right;\n",
              "    }\n",
              "</style>\n",
              "<table border=\"1\" class=\"dataframe\">\n",
              "  <thead>\n",
              "    <tr style=\"text-align: right;\">\n",
              "      <th></th>\n",
              "      <th>Year</th>\n",
              "      <th>Sales</th>\n",
              "    </tr>\n",
              "  </thead>\n",
              "  <tbody>\n",
              "    <tr>\n",
              "      <th>0</th>\n",
              "      <td>1969</td>\n",
              "      <td>297</td>\n",
              "    </tr>\n",
              "    <tr>\n",
              "      <th>1</th>\n",
              "      <td>1970</td>\n",
              "      <td>331</td>\n",
              "    </tr>\n",
              "    <tr>\n",
              "      <th>2</th>\n",
              "      <td>1971</td>\n",
              "      <td>373</td>\n",
              "    </tr>\n",
              "    <tr>\n",
              "      <th>3</th>\n",
              "      <td>1972</td>\n",
              "      <td>419</td>\n",
              "    </tr>\n",
              "    <tr>\n",
              "      <th>4</th>\n",
              "      <td>1973</td>\n",
              "      <td>437</td>\n",
              "    </tr>\n",
              "  </tbody>\n",
              "</table>\n",
              "</div>"
            ],
            "text/plain": [
              "   Year  Sales\n",
              "0  1969    297\n",
              "1  1970    331\n",
              "2  1971    373\n",
              "3  1972    419\n",
              "4  1973    437"
            ]
          },
          "metadata": {},
          "execution_count": 8
        }
      ]
    },
    {
      "cell_type": "code",
      "metadata": {
        "colab": {
          "base_uri": "https://localhost:8080/",
          "height": 300
        },
        "id": "jIOVkbDkdHSg",
        "outputId": "1239656b-0f0e-4597-9d4c-dd661679a03e"
      },
      "source": [
        "electricity.describe()\n"
      ],
      "execution_count": null,
      "outputs": [
        {
          "output_type": "execute_result",
          "data": {
            "text/html": [
              "<div>\n",
              "<style scoped>\n",
              "    .dataframe tbody tr th:only-of-type {\n",
              "        vertical-align: middle;\n",
              "    }\n",
              "\n",
              "    .dataframe tbody tr th {\n",
              "        vertical-align: top;\n",
              "    }\n",
              "\n",
              "    .dataframe thead th {\n",
              "        text-align: right;\n",
              "    }\n",
              "</style>\n",
              "<table border=\"1\" class=\"dataframe\">\n",
              "  <thead>\n",
              "    <tr style=\"text-align: right;\">\n",
              "      <th></th>\n",
              "      <th>Year</th>\n",
              "      <th>Sales</th>\n",
              "    </tr>\n",
              "  </thead>\n",
              "  <tbody>\n",
              "    <tr>\n",
              "      <th>count</th>\n",
              "      <td>50.00000</td>\n",
              "      <td>50.000000</td>\n",
              "    </tr>\n",
              "    <tr>\n",
              "      <th>mean</th>\n",
              "      <td>1993.50000</td>\n",
              "      <td>1614.860000</td>\n",
              "    </tr>\n",
              "    <tr>\n",
              "      <th>std</th>\n",
              "      <td>14.57738</td>\n",
              "      <td>1140.496795</td>\n",
              "    </tr>\n",
              "    <tr>\n",
              "      <th>min</th>\n",
              "      <td>1969.00000</td>\n",
              "      <td>297.000000</td>\n",
              "    </tr>\n",
              "    <tr>\n",
              "      <th>25%</th>\n",
              "      <td>1981.25000</td>\n",
              "      <td>693.250000</td>\n",
              "    </tr>\n",
              "    <tr>\n",
              "      <th>50%</th>\n",
              "      <td>1993.50000</td>\n",
              "      <td>1292.000000</td>\n",
              "    </tr>\n",
              "    <tr>\n",
              "      <th>75%</th>\n",
              "      <td>2005.75000</td>\n",
              "      <td>2500.000000</td>\n",
              "    </tr>\n",
              "    <tr>\n",
              "      <th>max</th>\n",
              "      <td>2018.00000</td>\n",
              "      <td>4289.000000</td>\n",
              "    </tr>\n",
              "  </tbody>\n",
              "</table>\n",
              "</div>"
            ],
            "text/plain": [
              "             Year        Sales\n",
              "count    50.00000    50.000000\n",
              "mean   1993.50000  1614.860000\n",
              "std      14.57738  1140.496795\n",
              "min    1969.00000   297.000000\n",
              "25%    1981.25000   693.250000\n",
              "50%    1993.50000  1292.000000\n",
              "75%    2005.75000  2500.000000\n",
              "max    2018.00000  4289.000000"
            ]
          },
          "metadata": {},
          "execution_count": 9
        }
      ]
    },
    {
      "cell_type": "code",
      "metadata": {
        "colab": {
          "base_uri": "https://localhost:8080/",
          "height": 530
        },
        "id": "TN2QmhUpdaBX",
        "outputId": "eeffaefc-4826-4f33-9c9b-6dff04435d3f"
      },
      "source": [
        "#Plotting the Scatter Plot\n",
        "\n",
        "plt.figure(figsize=(12, 8))\n",
        "plt.title('Electricity Sales in Industrial sector in Sri Lanka')\n",
        "plt.ylabel('Electricity Sales (GWH)')\n",
        "plt.xlabel('Year')\n",
        "plt.scatter(electricity.Year,electricity.Sales, color = 'red', marker='+')"
      ],
      "execution_count": null,
      "outputs": [
        {
          "output_type": "execute_result",
          "data": {
            "text/plain": [
              "<matplotlib.collections.PathCollection at 0x7fb5e81e8e50>"
            ]
          },
          "metadata": {},
          "execution_count": 10
        },
        {
          "output_type": "display_data",
          "data": {
            "image/png": "[encoded data removed]",
            "text/plain": [
              "<Figure size 864x576 with 1 Axes>"
            ]
          },
          "metadata": {
            "needs_background": "light"
          }
        }
      ]
    },
    {
      "cell_type": "code",
      "metadata": {
        "id": "gOzvL7y4JB6P",
        "colab": {
          "base_uri": "https://localhost:8080/"
        },
        "outputId": "21d2d510-460a-4aa5-e8d2-ec2130639230"
      },
      "source": [
        "#recognizinfg x and y variables\n",
        "df_x = pd.DataFrame(electricity.Year)\n",
        "df_y = pd.DataFrame(electricity.Sales)\n",
        "print('Shape of Data df_x',df_x.shape)\n",
        "print('Shape of Data df_y', df_y.shape)"
      ],
      "execution_count": null,
      "outputs": [
        {
          "output_type": "stream",
          "name": "stdout",
          "text": [
            "Shape of Data df_x (50, 1)\n",
            "Shape of Data df_y (50, 1)\n"
          ]
        }
      ]
    },
    {
      "cell_type": "markdown",
      "metadata": {
        "id": "GlhrGr0l3G5E"
      },
      "source": [
        "## **Splitting the dataset into training and testing**"
      ]
    },
    {
      "cell_type": "code",
      "metadata": {
        "id": "lMQ5NigDJ4Cf"
      },
      "source": [
        "#Splitting the dataset into training and testing\n",
        "x_train,x_test,y_train,y_test = train_test_split(df_x,df_y,test_size = 0.2, random_state =0)"
      ],
      "execution_count": null,
      "outputs": []
    },
    {
      "cell_type": "code",
      "metadata": {
        "colab": {
          "base_uri": "https://localhost:8080/",
          "height": 363
        },
        "id": "rZCC4Ua9-8fE",
        "outputId": "ce991b0e-d878-40cf-a2ca-9afc26586147"
      },
      "source": [
        "y_test"
      ],
      "execution_count": null,
      "outputs": [
        {
          "output_type": "execute_result",
          "data": {
            "text/html": [
              "<div>\n",
              "<style scoped>\n",
              "    .dataframe tbody tr th:only-of-type {\n",
              "        vertical-align: middle;\n",
              "    }\n",
              "\n",
              "    .dataframe tbody tr th {\n",
              "        vertical-align: top;\n",
              "    }\n",
              "\n",
              "    .dataframe thead th {\n",
              "        text-align: right;\n",
              "    }\n",
              "</style>\n",
              "<table border=\"1\" class=\"dataframe\">\n",
              "  <thead>\n",
              "    <tr style=\"text-align: right;\">\n",
              "      <th></th>\n",
              "      <th>Sales</th>\n",
              "    </tr>\n",
              "  </thead>\n",
              "  <tbody>\n",
              "    <tr>\n",
              "      <th>28</th>\n",
              "      <td>1431</td>\n",
              "    </tr>\n",
              "    <tr>\n",
              "      <th>11</th>\n",
              "      <td>626</td>\n",
              "    </tr>\n",
              "    <tr>\n",
              "      <th>10</th>\n",
              "      <td>631</td>\n",
              "    </tr>\n",
              "    <tr>\n",
              "      <th>41</th>\n",
              "      <td>2871</td>\n",
              "    </tr>\n",
              "    <tr>\n",
              "      <th>2</th>\n",
              "      <td>373</td>\n",
              "    </tr>\n",
              "    <tr>\n",
              "      <th>27</th>\n",
              "      <td>1361</td>\n",
              "    </tr>\n",
              "    <tr>\n",
              "      <th>38</th>\n",
              "      <td>2628</td>\n",
              "    </tr>\n",
              "    <tr>\n",
              "      <th>31</th>\n",
              "      <td>1755</td>\n",
              "    </tr>\n",
              "    <tr>\n",
              "      <th>22</th>\n",
              "      <td>958</td>\n",
              "    </tr>\n",
              "    <tr>\n",
              "      <th>4</th>\n",
              "      <td>437</td>\n",
              "    </tr>\n",
              "  </tbody>\n",
              "</table>\n",
              "</div>"
            ],
            "text/plain": [
              "    Sales\n",
              "28   1431\n",
              "11    626\n",
              "10    631\n",
              "41   2871\n",
              "2     373\n",
              "27   1361\n",
              "38   2628\n",
              "31   1755\n",
              "22    958\n",
              "4     437"
            ]
          },
          "metadata": {},
          "execution_count": 13
        }
      ]
    },
    {
      "cell_type": "code",
      "metadata": {
        "colab": {
          "base_uri": "https://localhost:8080/"
        },
        "id": "Ir9kkxedGnIH",
        "outputId": "b574dcf4-e15b-4b3f-e668-1a6d361197d2"
      },
      "source": [
        "print('Shape of y_test',y_test.shape)"
      ],
      "execution_count": null,
      "outputs": [
        {
          "output_type": "stream",
          "name": "stdout",
          "text": [
            "Shape of y_test (10, 1)\n"
          ]
        }
      ]
    },
    {
      "cell_type": "markdown",
      "metadata": {
        "id": "hnikmLmh3VA7"
      },
      "source": [
        "## **Running Linear Regression and fitting the model to training dataset**"
      ]
    },
    {
      "cell_type": "code",
      "metadata": {
        "id": "YrhrGhJLey65"
      },
      "source": [
        "#Regression model\n",
        "reg = linear_model.LinearRegression()"
      ],
      "execution_count": null,
      "outputs": []
    },
    {
      "cell_type": "code",
      "metadata": {
        "id": "lS1erQI2L9mI",
        "colab": {
          "base_uri": "https://localhost:8080/"
        },
        "outputId": "97b4a6fa-eee9-45d5-9640-0958bec63490"
      },
      "source": [
        "#Fitting the Model to the training dataset\n",
        "reg.fit(x_train,y_train)"
      ],
      "execution_count": null,
      "outputs": [
        {
          "output_type": "execute_result",
          "data": {
            "text/plain": [
              "LinearRegression(copy_X=True, fit_intercept=True, n_jobs=None, normalize=False)"
            ]
          },
          "metadata": {},
          "execution_count": 16
        }
      ]
    },
    {
      "cell_type": "code",
      "metadata": {
        "id": "OmCYcYQKfWIS",
        "colab": {
          "base_uri": "https://localhost:8080/"
        },
        "outputId": "68235fd7-3ed7-4956-b742-9937f668cdae"
      },
      "source": [
        "#Calculating the coefficient\n",
        "Coefficient = reg.coef_\n",
        "print('Coefficient is: ', Coefficient)"
      ],
      "execution_count": null,
      "outputs": [
        {
          "output_type": "stream",
          "name": "stdout",
          "text": [
            "Coefficient is:  [[77.16274322]]\n"
          ]
        }
      ]
    },
    {
      "cell_type": "code",
      "metadata": {
        "id": "WUZxe62dfoSU",
        "colab": {
          "base_uri": "https://localhost:8080/"
        },
        "outputId": "670d4cff-0d17-4370-b91a-6fa5d3a4b19b"
      },
      "source": [
        "#Calculaing the intercept\n",
        "Intercept = reg.intercept_\n",
        "print('Intercept is:', Intercept)"
      ],
      "execution_count": null,
      "outputs": [
        {
          "output_type": "stream",
          "name": "stdout",
          "text": [
            "Intercept is: [-152191.92974067]\n"
          ]
        }
      ]
    },
    {
      "cell_type": "code",
      "metadata": {
        "colab": {
          "base_uri": "https://localhost:8080/"
        },
        "id": "T6C_XcZBHZ_F",
        "outputId": "4c98893b-b539-46b4-99fe-681f323f96b3"
      },
      "source": [
        "#Predicting the test set\n",
        "y_predict = reg.predict(x_test)\n",
        "print(y_predict)"
      ],
      "execution_count": null,
      "outputs": [
        {
          "output_type": "stream",
          "name": "stdout",
          "text": [
            "[[1902.06847528]\n",
            " [ 590.30184049]\n",
            " [ 513.13909727]\n",
            " [2905.18413718]\n",
            " [-104.16284851]\n",
            " [1824.90573206]\n",
            " [2673.69590751]\n",
            " [2133.55670495]\n",
            " [1439.09201595]\n",
            " [  50.16263793]]\n"
          ]
        }
      ]
    },
    {
      "cell_type": "code",
      "metadata": {
        "colab": {
          "base_uri": "https://localhost:8080/"
        },
        "id": "z6Qd5qz3G4K0",
        "outputId": "d906ab62-3eb1-4868-f629-a1c3ef98bd85"
      },
      "source": [
        "print('Shape of y_predict',y_predict.shape)"
      ],
      "execution_count": null,
      "outputs": [
        {
          "output_type": "stream",
          "name": "stdout",
          "text": [
            "Shape of y_predict (10, 1)\n"
          ]
        }
      ]
    },
    {
      "cell_type": "code",
      "metadata": {
        "id": "5tlAZfg6Ru6z"
      },
      "source": [
        "predictions = pd.DataFrame(y_predict, columns=['Prediction'])\n",
        "predictions.reset_index(drop=True, inplace=True)"
      ],
      "execution_count": null,
      "outputs": []
    },
    {
      "cell_type": "code",
      "metadata": {
        "id": "nwU1i_IFMxji"
      },
      "source": [
        "y_test.reset_index(drop=True, inplace=True)"
      ],
      "execution_count": null,
      "outputs": []
    },
    {
      "cell_type": "code",
      "metadata": {
        "colab": {
          "base_uri": "https://localhost:8080/",
          "height": 363
        },
        "id": "VPjp0fIEOUa3",
        "outputId": "a39c25e3-0e41-4738-d655-5b89c54c55d6"
      },
      "source": [
        "electricity2 = pd.concat([y_test, predictions], axis =1)\n",
        "electricity2.columns = ['Actual_Sales','Forecast_Sales']\n",
        "electricity2"
      ],
      "execution_count": null,
      "outputs": [
        {
          "output_type": "execute_result",
          "data": {
            "text/html": [
              "<div>\n",
              "<style scoped>\n",
              "    .dataframe tbody tr th:only-of-type {\n",
              "        vertical-align: middle;\n",
              "    }\n",
              "\n",
              "    .dataframe tbody tr th {\n",
              "        vertical-align: top;\n",
              "    }\n",
              "\n",
              "    .dataframe thead th {\n",
              "        text-align: right;\n",
              "    }\n",
              "</style>\n",
              "<table border=\"1\" class=\"dataframe\">\n",
              "  <thead>\n",
              "    <tr style=\"text-align: right;\">\n",
              "      <th></th>\n",
              "      <th>Actual_Sales</th>\n",
              "      <th>Forecast_Sales</th>\n",
              "    </tr>\n",
              "  </thead>\n",
              "  <tbody>\n",
              "    <tr>\n",
              "      <th>0</th>\n",
              "      <td>1431</td>\n",
              "      <td>1902.068475</td>\n",
              "    </tr>\n",
              "    <tr>\n",
              "      <th>1</th>\n",
              "      <td>626</td>\n",
              "      <td>590.301840</td>\n",
              "    </tr>\n",
              "    <tr>\n",
              "      <th>2</th>\n",
              "      <td>631</td>\n",
              "      <td>513.139097</td>\n",
              "    </tr>\n",
              "    <tr>\n",
              "      <th>3</th>\n",
              "      <td>2871</td>\n",
              "      <td>2905.184137</td>\n",
              "    </tr>\n",
              "    <tr>\n",
              "      <th>4</th>\n",
              "      <td>373</td>\n",
              "      <td>-104.162849</td>\n",
              "    </tr>\n",
              "    <tr>\n",
              "      <th>5</th>\n",
              "      <td>1361</td>\n",
              "      <td>1824.905732</td>\n",
              "    </tr>\n",
              "    <tr>\n",
              "      <th>6</th>\n",
              "      <td>2628</td>\n",
              "      <td>2673.695908</td>\n",
              "    </tr>\n",
              "    <tr>\n",
              "      <th>7</th>\n",
              "      <td>1755</td>\n",
              "      <td>2133.556705</td>\n",
              "    </tr>\n",
              "    <tr>\n",
              "      <th>8</th>\n",
              "      <td>958</td>\n",
              "      <td>1439.092016</td>\n",
              "    </tr>\n",
              "    <tr>\n",
              "      <th>9</th>\n",
              "      <td>437</td>\n",
              "      <td>50.162638</td>\n",
              "    </tr>\n",
              "  </tbody>\n",
              "</table>\n",
              "</div>"
            ],
            "text/plain": [
              "   Actual_Sales  Forecast_Sales\n",
              "0          1431     1902.068475\n",
              "1           626      590.301840\n",
              "2           631      513.139097\n",
              "3          2871     2905.184137\n",
              "4           373     -104.162849\n",
              "5          1361     1824.905732\n",
              "6          2628     2673.695908\n",
              "7          1755     2133.556705\n",
              "8           958     1439.092016\n",
              "9           437       50.162638"
            ]
          },
          "metadata": {},
          "execution_count": 23
        }
      ]
    },
    {
      "cell_type": "code",
      "metadata": {
        "colab": {
          "base_uri": "https://localhost:8080/"
        },
        "id": "1LYN9_bqubYp",
        "outputId": "f179a8f0-83b4-4b6c-e547-9bd9d1eecb94"
      },
      "source": [
        "#Prediction on Training set\n",
        "pred_train = reg.predict(x_train)\n",
        "print(pred_train)"
      ],
      "execution_count": null,
      "outputs": [
        {
          "output_type": "stream",
          "name": "stdout",
          "text": [
            "[[2287.8821914 ]\n",
            " [2442.20767784]\n",
            " [1747.74298884]\n",
            " [2365.04493462]\n",
            " [1130.44104305]\n",
            " [ 281.6508676 ]\n",
            " [ 821.79007016]\n",
            " [3213.83511007]\n",
            " [3445.32333974]\n",
            " [1979.2312185 ]\n",
            " [ 898.95281339]\n",
            " [2056.39396173]\n",
            " [2210.71944817]\n",
            " [ 976.11555661]\n",
            " [2982.3468804 ]\n",
            " [1284.7665295 ]\n",
            " [3059.50962362]\n",
            " [ 358.81361083]\n",
            " [ 744.62732694]\n",
            " [1670.58024561]\n",
            " [ 127.32538116]\n",
            " [1053.27829983]\n",
            " [2828.02139396]\n",
            " [3522.48608296]\n",
            " [-181.32559173]\n",
            " [ 667.46458372]\n",
            " [2596.53316429]\n",
            " [1593.41750239]\n",
            " [ 204.48812438]\n",
            " [1516.25475917]\n",
            " [2519.37042106]\n",
            " [1361.92927272]\n",
            " [1207.60378628]\n",
            " [ 435.97635405]\n",
            " [2750.85865073]\n",
            " [3290.99785329]\n",
            " [ -27.00010529]\n",
            " [-258.48833496]\n",
            " [3368.16059652]\n",
            " [3136.67236685]]\n"
          ]
        }
      ]
    },
    {
      "cell_type": "markdown",
      "metadata": {
        "id": "9QLsYP2Sxc7v"
      },
      "source": [
        "# **Evaluating the Simple Linear Regression model**"
      ]
    },
    {
      "cell_type": "code",
      "metadata": {
        "colab": {
          "base_uri": "https://localhost:8080/"
        },
        "id": "T6SdruSM-ct5",
        "outputId": "2b35f6c8-6bab-4722-86f8-462dcff853d2"
      },
      "source": [
        "rmse = np.sqrt(metrics.mean_squared_error(y_test, predictions))\n",
        "print('Root Mean Squared Error: %.3f' % rmse)"
      ],
      "execution_count": null,
      "outputs": [
        {
          "output_type": "stream",
          "name": "stdout",
          "text": [
            "Root Mean Squared Error: 347.508\n"
          ]
        }
      ]
    },
    {
      "cell_type": "code",
      "metadata": {
        "colab": {
          "base_uri": "https://localhost:8080/"
        },
        "id": "H8TiKtMfIw5W",
        "outputId": "9ba02340-8541-4924-ad13-5aede2450a76"
      },
      "source": [
        "#Calculating the R squared value\n",
        "r2 = r2_score(y_test,predictions)\n",
        "print('r2 score: %.3f' % r2)\n"
      ],
      "execution_count": null,
      "outputs": [
        {
          "output_type": "stream",
          "name": "stdout",
          "text": [
            "r2 score: 0.829\n"
          ]
        }
      ]
    },
    {
      "cell_type": "code",
      "metadata": {
        "id": "1ZTKbLeqjBL3"
      },
      "source": [
        "def mean_absolute_percentage_error(y_true, y_pred): \n",
        "    y_true, y_pred = np.array(y_true), np.array(y_pred)\n",
        "    return np.mean(np.abs((y_true - y_pred) / y_true)) * 100"
      ],
      "execution_count": null,
      "outputs": []
    },
    {
      "cell_type": "code",
      "metadata": {
        "colab": {
          "base_uri": "https://localhost:8080/"
        },
        "id": "0rVkSf_ijQ-b",
        "outputId": "1f06e5b3-31a3-4621-8ac7-aa479b3ee83e"
      },
      "source": [
        "mape = mean_absolute_percentage_error(y_test, y_predict)\n",
        "print('Mean Absolute Precentage Error: %.3f' % mape)"
      ],
      "execution_count": null,
      "outputs": [
        {
          "output_type": "stream",
          "name": "stdout",
          "text": [
            "Mean Absolute Precentage Error: 38.255\n"
          ]
        }
      ]
    },
    {
      "cell_type": "markdown",
      "metadata": {
        "id": "YR0F270LU6oF"
      },
      "source": [
        "## **Visualizing Linear Regression model for Training Data Set**"
      ]
    },
    {
      "cell_type": "code",
      "metadata": {
        "colab": {
          "base_uri": "https://localhost:8080/",
          "height": 513
        },
        "id": "M7-Xu2ndMSOF",
        "outputId": "30d5e548-39e6-4d64-ba17-46b47a78af33"
      },
      "source": [
        "plt.figure(figsize=(12, 8))\n",
        "plt.scatter(x_train, y_train, color = \"green\")\n",
        "plt.plot(x_train, pred_train, color = \"red\")\n",
        "plt.title(\"Electricity Sales in Industrial sector in Sri Lanka (Training Data set)\")\n",
        "plt.xlabel(\"Years \")\n",
        "plt.ylabel(\"Electricity Sales (GWH)\")\n",
        "plt.show()"
      ],
      "execution_count": null,
      "outputs": [
        {
          "output_type": "display_data",
          "data": {
            "image/png": "[encoded data removed]",
            "text/plain": [
              "<Figure size 864x576 with 1 Axes>"
            ]
          },
          "metadata": {
            "needs_background": "light"
          }
        }
      ]
    },
    {
      "cell_type": "markdown",
      "metadata": {
        "id": "Endw1EGVVHFt"
      },
      "source": [
        "## **Visualizing Linear Regression model for Testing Data Set**"
      ]
    },
    {
      "cell_type": "code",
      "metadata": {
        "colab": {
          "base_uri": "https://localhost:8080/",
          "height": 513
        },
        "id": "VfXaua8KRUf3",
        "outputId": "adaa6e75-26fc-4fc9-d1fd-7b4a00fce533"
      },
      "source": [
        "plt.figure(figsize=(12, 8))\n",
        "plt.scatter(x_test, y_test, color = \"green\")\n",
        "plt.plot(x_train, pred_train, color = \"red\")\n",
        "plt.title(\"Electricity Sales vs Years (Testing Data set)\")\n",
        "plt.xlabel(\"Years \")\n",
        "plt.ylabel(\"Electricity Sales (GWH)\")\n",
        "plt.show()"
      ],
      "execution_count": null,
      "outputs": [
        {
          "output_type": "display_data",
          "data": {
            "image/png": "[encoded data removed]",
            "text/plain": [
              "<Figure size 864x576 with 1 Axes>"
            ]
          },
          "metadata": {
            "needs_background": "light"
          }
        }
      ]
    },
    {
      "cell_type": "markdown",
      "metadata": {
        "id": "lpG5EGmY-Dic"
      },
      "source": [
        "## **Use the Linear Regression model to make Predictions**"
      ]
    },
    {
      "cell_type": "code",
      "metadata": {
        "colab": {
          "base_uri": "https://localhost:8080/"
        },
        "id": "0gP90ZUDACAq",
        "outputId": "0dfb7bcf-54fa-4186-e95c-37e6208d7845"
      },
      "source": [
        "#Prdiction Fomula\n",
        "#y=a+bx where y is electricity sales a is intercept, b is Years and x is coefficient\n",
        "\n",
        "Year = 2018\n",
        "pred_future = Intercept + Coefficient*Year\n",
        "print('Predicted Industrial sector electricity Sales for year ', Year, ' is : ', pred_future)\n"
      ],
      "execution_count": null,
      "outputs": [
        {
          "output_type": "stream",
          "name": "stdout",
          "text": [
            "Predicted Industrial sector electricity Sales for year  2018  is :  [[3522.48608296]]\n"
          ]
        }
      ]
    }
  ]
}