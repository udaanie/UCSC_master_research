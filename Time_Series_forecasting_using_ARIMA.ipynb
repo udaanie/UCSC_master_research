{
  "nbformat": 4,
  "nbformat_minor": 0,
  "metadata": {
    "colab": {
      "name": "Time Series forecasting using ARIMA.ipynb",
      "provenance": [],
      "collapsed_sections": [],
      "authorship_tag": "ABX9TyPgv9hKF3rUAI19W46YKaul",
      "include_colab_link": true
    },
    "kernelspec": {
      "name": "python3",
      "display_name": "Python 3"
    },
    "language_info": {
      "name": "python"
    }
  },
  "cells": [
    {
      "cell_type": "markdown",
      "metadata": {
        "id": "view-in-github",
        "colab_type": "text"
      },
      "source": [
        "<a href=\"https://colab.research.google.com/github/udaanie/UCSC_master_research/blob/master/Time_Series_forecasting_using_ARIMA.ipynb\" target=\"_parent\"><img src=\"https://colab.research.google.com/assets/colab-badge.svg\" alt=\"Open In Colab\"/></a>"
      ]
    },
    {
      "cell_type": "code",
      "metadata": {
        "id": "RP0MhQysWZhK"
      },
      "source": [
        "pip install pmdarima"
      ],
      "execution_count": null,
      "outputs": []
    },
    {
      "cell_type": "code",
      "metadata": {
        "id": "OYGec46FhTR1"
      },
      "source": [
        "#imprting required packages\n",
        "import numpy as np\n",
        "import pandas as pd\n",
        "import statsmodels.api as sm\n",
        "import matplotlib.pylab as plt\n",
        "%matplotlib inline\n",
        "from statsmodels.tsa.stattools import adfuller\n",
        "from statsmodels.graphics.tsaplots import plot_acf, plot_pacf\n",
        "from statsmodels.tsa.arima_model import ARIMA\n",
        "import warnings\n",
        "warnings.filterwarnings(\"ignore\")\n",
        "from pandas import DataFrame\n",
        "import seaborn as sns\n",
        "from pmdarima import auto_arima\n",
        "from sklearn import metrics\n",
        "from sklearn.metrics import mean_squared_error\n",
        "from sklearn.metrics import r2_score\n"
      ],
      "execution_count": null,
      "outputs": []
    },
    {
      "cell_type": "code",
      "metadata": {
        "id": "nEYYfk8Hjunv"
      },
      "source": [
        "#Loading the dataset\n",
        "electricity=pd.read_csv(\"Data Set for research.csv\",index_col=['Year'],parse_dates=['Year'])"
      ],
      "execution_count": null,
      "outputs": []
    },
    {
      "cell_type": "code",
      "metadata": {
        "colab": {
          "base_uri": "https://localhost:8080/",
          "height": 250
        },
        "id": "B6E10B0Oj30p",
        "outputId": "b284029f-5eff-411d-d944-b714b815072a"
      },
      "source": [
        "#Read the dataset\n",
        "print('Shape of Data',electricity.shape)\n",
        "electricity.head()"
      ],
      "execution_count": null,
      "outputs": [
        {
          "output_type": "stream",
          "name": "stdout",
          "text": [
            "Shape of Data (50, 3)\n"
          ]
        },
        {
          "output_type": "execute_result",
          "data": {
            "text/html": [
              "<div>\n",
              "<style scoped>\n",
              "    .dataframe tbody tr th:only-of-type {\n",
              "        vertical-align: middle;\n",
              "    }\n",
              "\n",
              "    .dataframe tbody tr th {\n",
              "        vertical-align: top;\n",
              "    }\n",
              "\n",
              "    .dataframe thead th {\n",
              "        text-align: right;\n",
              "    }\n",
              "</style>\n",
              "<table border=\"1\" class=\"dataframe\">\n",
              "  <thead>\n",
              "    <tr style=\"text-align: right;\">\n",
              "      <th></th>\n",
              "      <th>Consumers</th>\n",
              "      <th>GDP</th>\n",
              "      <th>Sales</th>\n",
              "    </tr>\n",
              "    <tr>\n",
              "      <th>Year</th>\n",
              "      <th></th>\n",
              "      <th></th>\n",
              "      <th></th>\n",
              "    </tr>\n",
              "  </thead>\n",
              "  <tbody>\n",
              "    <tr>\n",
              "      <th>1969-01-01</th>\n",
              "      <td>1888</td>\n",
              "      <td>1859465021</td>\n",
              "      <td>297</td>\n",
              "    </tr>\n",
              "    <tr>\n",
              "      <th>1970-01-01</th>\n",
              "      <td>2116</td>\n",
              "      <td>1801344538</td>\n",
              "      <td>331</td>\n",
              "    </tr>\n",
              "    <tr>\n",
              "      <th>1971-01-01</th>\n",
              "      <td>2235</td>\n",
              "      <td>1965546218</td>\n",
              "      <td>373</td>\n",
              "    </tr>\n",
              "    <tr>\n",
              "      <th>1972-01-01</th>\n",
              "      <td>2482</td>\n",
              "      <td>2296470588</td>\n",
              "      <td>419</td>\n",
              "    </tr>\n",
              "    <tr>\n",
              "      <th>1973-01-01</th>\n",
              "      <td>2658</td>\n",
              "      <td>2369308600</td>\n",
              "      <td>437</td>\n",
              "    </tr>\n",
              "  </tbody>\n",
              "</table>\n",
              "</div>"
            ],
            "text/plain": [
              "            Consumers         GDP  Sales\n",
              "Year                                    \n",
              "1969-01-01       1888  1859465021    297\n",
              "1970-01-01       2116  1801344538    331\n",
              "1971-01-01       2235  1965546218    373\n",
              "1972-01-01       2482  2296470588    419\n",
              "1973-01-01       2658  2369308600    437"
            ]
          },
          "metadata": {},
          "execution_count": 4
        }
      ]
    },
    {
      "cell_type": "markdown",
      "metadata": {
        "id": "R1v9PfWORH0t"
      },
      "source": [
        "## **Data Preprocessing**"
      ]
    },
    {
      "cell_type": "code",
      "metadata": {
        "colab": {
          "base_uri": "https://localhost:8080/"
        },
        "id": "ANQw7Le5Q3Ty",
        "outputId": "7f386717-c3d6-4264-ed42-14a6f50fa207"
      },
      "source": [
        "#Search for missing values\n",
        "electricity.info()"
      ],
      "execution_count": null,
      "outputs": [
        {
          "output_type": "stream",
          "name": "stdout",
          "text": [
            "<class 'pandas.core.frame.DataFrame'>\n",
            "DatetimeIndex: 50 entries, 1969-01-01 to 2018-01-01\n",
            "Data columns (total 3 columns):\n",
            " #   Column     Non-Null Count  Dtype\n",
            "---  ------     --------------  -----\n",
            " 0   Consumers  50 non-null     int64\n",
            " 1   GDP        50 non-null     int64\n",
            " 2   Sales      50 non-null     int64\n",
            "dtypes: int64(3)\n",
            "memory usage: 1.6 KB\n"
          ]
        }
      ]
    },
    {
      "cell_type": "code",
      "metadata": {
        "id": "K_7oui0-RCaL"
      },
      "source": [
        "def missing_values_table(df):\n",
        "        # Total missing values\n",
        "        mis_val = df.isnull().sum()\n",
        "        \n",
        "        # Percentage of missing values\n",
        "        mis_val_percent = 100 * df.isnull().sum() / len(df)\n",
        "        \n",
        "        # Make a table with the results\n",
        "        mis_val_table = pd.concat([mis_val, mis_val_percent], axis=1)\n",
        "        \n",
        "        # Rename the columns\n",
        "        mis_val_table_ren_columns = mis_val_table.rename(\n",
        "        columns = {0 : 'Missing Values', 1 : '% of Total Values'})\n",
        "        \n",
        "        # Sort the table by percentage of missing descending\n",
        "        mis_val_table_ren_columns = mis_val_table_ren_columns[\n",
        "            mis_val_table_ren_columns.iloc[:,1] != 0].sort_values(\n",
        "        '% of Total Values', ascending=False).round(1)\n",
        "        \n",
        "        # Print some summary information\n",
        "        print (\"Your selected dataframe has \" + str(df.shape[1]) + \" columns.\\n\"      \n",
        "            \"There are \" + str(mis_val_table_ren_columns.shape[0]) +\n",
        "              \" columns that have missing values.\")\n",
        "        \n",
        "        # Return the dataframe with missing information\n",
        "        return mis_val_table_ren_columns"
      ],
      "execution_count": null,
      "outputs": []
    },
    {
      "cell_type": "code",
      "metadata": {
        "colab": {
          "base_uri": "https://localhost:8080/"
        },
        "id": "c6xO3oMDRVlU",
        "outputId": "9db53e61-6b85-48a5-cdf2-5b069aa1263b"
      },
      "source": [
        "missing_values = missing_values_table(electricity)"
      ],
      "execution_count": null,
      "outputs": [
        {
          "output_type": "stream",
          "name": "stdout",
          "text": [
            "Your selected dataframe has 3 columns.\n",
            "There are 0 columns that have missing values.\n"
          ]
        }
      ]
    },
    {
      "cell_type": "code",
      "metadata": {
        "colab": {
          "base_uri": "https://localhost:8080/",
          "height": 388
        },
        "id": "uWK5m_E-kCNl",
        "outputId": "47245332-3ef6-42b5-8aa3-490916365d29"
      },
      "source": [
        "#Dropping unwanted columns\n",
        "drop_cols = ['Consumers','GDP']\n",
        "electricity.drop(drop_cols, axis=1, inplace=True)\n",
        "electricity.head(10)"
      ],
      "execution_count": null,
      "outputs": [
        {
          "output_type": "execute_result",
          "data": {
            "text/html": [
              "<div>\n",
              "<style scoped>\n",
              "    .dataframe tbody tr th:only-of-type {\n",
              "        vertical-align: middle;\n",
              "    }\n",
              "\n",
              "    .dataframe tbody tr th {\n",
              "        vertical-align: top;\n",
              "    }\n",
              "\n",
              "    .dataframe thead th {\n",
              "        text-align: right;\n",
              "    }\n",
              "</style>\n",
              "<table border=\"1\" class=\"dataframe\">\n",
              "  <thead>\n",
              "    <tr style=\"text-align: right;\">\n",
              "      <th></th>\n",
              "      <th>Sales</th>\n",
              "    </tr>\n",
              "    <tr>\n",
              "      <th>Year</th>\n",
              "      <th></th>\n",
              "    </tr>\n",
              "  </thead>\n",
              "  <tbody>\n",
              "    <tr>\n",
              "      <th>1969-01-01</th>\n",
              "      <td>297</td>\n",
              "    </tr>\n",
              "    <tr>\n",
              "      <th>1970-01-01</th>\n",
              "      <td>331</td>\n",
              "    </tr>\n",
              "    <tr>\n",
              "      <th>1971-01-01</th>\n",
              "      <td>373</td>\n",
              "    </tr>\n",
              "    <tr>\n",
              "      <th>1972-01-01</th>\n",
              "      <td>419</td>\n",
              "    </tr>\n",
              "    <tr>\n",
              "      <th>1973-01-01</th>\n",
              "      <td>437</td>\n",
              "    </tr>\n",
              "    <tr>\n",
              "      <th>1974-01-01</th>\n",
              "      <td>463</td>\n",
              "    </tr>\n",
              "    <tr>\n",
              "      <th>1975-01-01</th>\n",
              "      <td>522</td>\n",
              "    </tr>\n",
              "    <tr>\n",
              "      <th>1976-01-01</th>\n",
              "      <td>513</td>\n",
              "    </tr>\n",
              "    <tr>\n",
              "      <th>1977-01-01</th>\n",
              "      <td>515</td>\n",
              "    </tr>\n",
              "    <tr>\n",
              "      <th>1978-01-01</th>\n",
              "      <td>590</td>\n",
              "    </tr>\n",
              "  </tbody>\n",
              "</table>\n",
              "</div>"
            ],
            "text/plain": [
              "            Sales\n",
              "Year             \n",
              "1969-01-01    297\n",
              "1970-01-01    331\n",
              "1971-01-01    373\n",
              "1972-01-01    419\n",
              "1973-01-01    437\n",
              "1974-01-01    463\n",
              "1975-01-01    522\n",
              "1976-01-01    513\n",
              "1977-01-01    515\n",
              "1978-01-01    590"
            ]
          },
          "metadata": {},
          "execution_count": 8
        }
      ]
    },
    {
      "cell_type": "code",
      "metadata": {
        "colab": {
          "base_uri": "https://localhost:8080/",
          "height": 295
        },
        "id": "NiPECWSkl1zL",
        "outputId": "e96da62f-49fc-480c-9cee-b3e4543a9601"
      },
      "source": [
        "electricity.describe()"
      ],
      "execution_count": null,
      "outputs": [
        {
          "output_type": "execute_result",
          "data": {
            "text/html": [
              "<div>\n",
              "<style scoped>\n",
              "    .dataframe tbody tr th:only-of-type {\n",
              "        vertical-align: middle;\n",
              "    }\n",
              "\n",
              "    .dataframe tbody tr th {\n",
              "        vertical-align: top;\n",
              "    }\n",
              "\n",
              "    .dataframe thead th {\n",
              "        text-align: right;\n",
              "    }\n",
              "</style>\n",
              "<table border=\"1\" class=\"dataframe\">\n",
              "  <thead>\n",
              "    <tr style=\"text-align: right;\">\n",
              "      <th></th>\n",
              "      <th>Sales</th>\n",
              "    </tr>\n",
              "  </thead>\n",
              "  <tbody>\n",
              "    <tr>\n",
              "      <th>count</th>\n",
              "      <td>50.000000</td>\n",
              "    </tr>\n",
              "    <tr>\n",
              "      <th>mean</th>\n",
              "      <td>1614.860000</td>\n",
              "    </tr>\n",
              "    <tr>\n",
              "      <th>std</th>\n",
              "      <td>1140.496795</td>\n",
              "    </tr>\n",
              "    <tr>\n",
              "      <th>min</th>\n",
              "      <td>297.000000</td>\n",
              "    </tr>\n",
              "    <tr>\n",
              "      <th>25%</th>\n",
              "      <td>693.250000</td>\n",
              "    </tr>\n",
              "    <tr>\n",
              "      <th>50%</th>\n",
              "      <td>1292.000000</td>\n",
              "    </tr>\n",
              "    <tr>\n",
              "      <th>75%</th>\n",
              "      <td>2500.000000</td>\n",
              "    </tr>\n",
              "    <tr>\n",
              "      <th>max</th>\n",
              "      <td>4289.000000</td>\n",
              "    </tr>\n",
              "  </tbody>\n",
              "</table>\n",
              "</div>"
            ],
            "text/plain": [
              "             Sales\n",
              "count    50.000000\n",
              "mean   1614.860000\n",
              "std    1140.496795\n",
              "min     297.000000\n",
              "25%     693.250000\n",
              "50%    1292.000000\n",
              "75%    2500.000000\n",
              "max    4289.000000"
            ]
          },
          "metadata": {},
          "execution_count": 9
        }
      ]
    },
    {
      "cell_type": "code",
      "metadata": {
        "id": "6DxdYSwNr5jW"
      },
      "source": [
        "series_value = electricity.values"
      ],
      "execution_count": null,
      "outputs": []
    },
    {
      "cell_type": "markdown",
      "metadata": {
        "id": "FKv9qC2ZX3oL"
      },
      "source": [
        "## **Plotting the Time Plot**"
      ]
    },
    {
      "cell_type": "code",
      "metadata": {
        "colab": {
          "base_uri": "https://localhost:8080/",
          "height": 513
        },
        "id": "0EEYwmXOkH1f",
        "outputId": "b25bbb50-c260-41ca-eaab-c64b530bf956"
      },
      "source": [
        "#Plotting the Time Plot\n",
        "\n",
        "plt.figure(figsize=(12, 8))\n",
        "plt.plot(electricity.Sales)\n",
        "plt.title('Electricity Sales in Industrial sector in Sri Lanka')\n",
        "plt.ylabel('Electricity Sales (GWH)',)\n",
        "plt.xlabel('Year')\n",
        "plt.grid(False)\n",
        "plt.show()"
      ],
      "execution_count": null,
      "outputs": [
        {
          "output_type": "display_data",
          "data": {
            "image/png": "[encoded data removed]",
            "text/plain": [
              "<Figure size 864x576 with 1 Axes>"
            ]
          },
          "metadata": {
            "needs_background": "light"
          }
        }
      ]
    },
    {
      "cell_type": "markdown",
      "metadata": {
        "id": "ydBaIuk3Xg9g"
      },
      "source": [
        "## **Splitting the dataset into training and testing**"
      ]
    },
    {
      "cell_type": "code",
      "metadata": {
        "colab": {
          "base_uri": "https://localhost:8080/"
        },
        "id": "SiGuDvbMy7jf",
        "outputId": "d6738815-afa5-4283-c55b-85366dd44bf4"
      },
      "source": [
        "print(electricity.shape)\n",
        "train=electricity.iloc[:-10]\n",
        "test=electricity.iloc[-10:]\n",
        "print('Train shape: ',train.shape)\n",
        "print('Test shape: ',test.shape)"
      ],
      "execution_count": null,
      "outputs": [
        {
          "output_type": "stream",
          "name": "stdout",
          "text": [
            "(50, 1)\n",
            "Train shape:  (40, 1)\n",
            "Test shape:  (10, 1)\n"
          ]
        }
      ]
    },
    {
      "cell_type": "markdown",
      "metadata": {
        "id": "6LhUfMA2X89n"
      },
      "source": [
        "## **Checking the stationary of the series**"
      ]
    },
    {
      "cell_type": "code",
      "metadata": {
        "colab": {
          "base_uri": "https://localhost:8080/"
        },
        "id": "OhVnPsrlkQkX",
        "outputId": "15aad6b2-0bb5-4fd0-d503-61eaa50b76ed"
      },
      "source": [
        "#Checking the stationary of the series\n",
        "#Determing rolling statistics\n",
        "\n",
        "rolmean = electricity.rolling(window=3).mean()\n",
        "rolstd = electricity.rolling(window=3).std()\n",
        "print(rolmean, rolstd)"
      ],
      "execution_count": null,
      "outputs": [
        {
          "output_type": "stream",
          "name": "stdout",
          "text": [
            "                  Sales\n",
            "Year                   \n",
            "1969-01-01          NaN\n",
            "1970-01-01          NaN\n",
            "1971-01-01   333.666667\n",
            "1972-01-01   374.333333\n",
            "1973-01-01   409.666667\n",
            "1974-01-01   439.666667\n",
            "1975-01-01   474.000000\n",
            "1976-01-01   499.333333\n",
            "1977-01-01   516.666667\n",
            "1978-01-01   539.333333\n",
            "1979-01-01   578.666667\n",
            "1980-01-01   615.666667\n",
            "1981-01-01   645.000000\n",
            "1982-01-01   681.000000\n",
            "1983-01-01   723.000000\n",
            "1984-01-01   760.666667\n",
            "1985-01-01   797.666667\n",
            "1986-01-01   855.666667\n",
            "1987-01-01   881.000000\n",
            "1988-01-01   899.333333\n",
            "1989-01-01   873.333333\n",
            "1990-01-01   887.666667\n",
            "1991-01-01   905.333333\n",
            "1992-01-01   975.000000\n",
            "1993-01-01  1079.333333\n",
            "1994-01-01  1228.666667\n",
            "1995-01-01  1385.666667\n",
            "1996-01-01  1431.666667\n",
            "1997-01-01  1440.000000\n",
            "1998-01-01  1468.666667\n",
            "1999-01-01  1552.666667\n",
            "2000-01-01  1660.666667\n",
            "2001-01-01  1695.333333\n",
            "2002-01-01  1779.333333\n",
            "2003-01-01  1914.000000\n",
            "2004-01-01  2096.666667\n",
            "2005-01-01  2290.333333\n",
            "2006-01-01  2439.000000\n",
            "2007-01-01  2559.666667\n",
            "2008-01-01  2636.666667\n",
            "2009-01-01  2607.666667\n",
            "2010-01-01  2688.666667\n",
            "2011-01-01  2840.333333\n",
            "2012-01-01  3096.000000\n",
            "2013-01-01  3253.666667\n",
            "2014-01-01  3375.666667\n",
            "2015-01-01  3483.000000\n",
            "2016-01-01  3656.333333\n",
            "2017-01-01  3837.666667\n",
            "2018-01-01  4065.000000                  Sales\n",
            "Year                  \n",
            "1969-01-01         NaN\n",
            "1970-01-01         NaN\n",
            "1971-01-01   38.070111\n",
            "1972-01-01   44.015149\n",
            "1973-01-01   33.005050\n",
            "1974-01-01   22.120880\n",
            "1975-01-01   43.554563\n",
            "1976-01-01   31.785741\n",
            "1977-01-01    4.725816\n",
            "1978-01-01   43.890014\n",
            "1979-01-01   58.824598\n",
            "1980-01-01   22.368132\n",
            "1981-01-01   28.687977\n",
            "1982-01-01   56.559703\n",
            "1983-01-01   39.509493\n",
            "1984-01-01   27.061658\n",
            "1985-01-01   49.338964\n",
            "1986-01-01   67.678160\n",
            "1987-01-01   39.887341\n",
            "1988-01-01   29.905406\n",
            "1989-01-01   29.022979\n",
            "1990-01-01   34.443190\n",
            "1991-01-01   55.148285\n",
            "1992-01-01   74.959989\n",
            "1993-01-01  133.904195\n",
            "1994-01-01  174.568993\n",
            "1995-01-01  153.513300\n",
            "1996-01-01   86.407947\n",
            "1997-01-01   83.862983\n",
            "1998-01-01  130.638177\n",
            "1999-01-01  105.367610\n",
            "2000-01-01   81.696593\n",
            "2001-01-01   73.663650\n",
            "2002-01-01   76.461319\n",
            "2003-01-01  224.546209\n",
            "2004-01-01  207.639913\n",
            "2005-01-01  145.039075\n",
            "2006-01-01  169.608372\n",
            "2007-01-01   99.107686\n",
            "2008-01-01   36.774085\n",
            "2009-01-01   81.426859\n",
            "2010-01-01  176.788951\n",
            "2011-01-01  308.146610\n",
            "2012-01-01  209.334660\n",
            "2013-01-01  109.418158\n",
            "2014-01-01  109.974239\n",
            "2015-01-01  132.140077\n",
            "2016-01-01  187.921083\n",
            "2017-01-01  218.692326\n",
            "2018-01-01  213.431488\n"
          ]
        }
      ]
    },
    {
      "cell_type": "code",
      "metadata": {
        "colab": {
          "base_uri": "https://localhost:8080/",
          "height": 499
        },
        "id": "7MOeFzllktjg",
        "outputId": "88c32caf-c8a0-460c-92a4-2bd954c8db37"
      },
      "source": [
        "#Plot rolling statistics\n",
        "\n",
        "plt.figure(figsize=(12, 8))\n",
        "original = plt.plot(electricity, color='blue', label='Original')\n",
        "mean = plt.plot(rolmean, color='red', label='Rolling Mean')\n",
        "std = plt.plot(rolstd, color='black', label='Rolling Std')\n",
        "plt.legend()\n",
        "plt.title('Rolling Mean & Standard Deviation')\n",
        "plt.show(block=False)"
      ],
      "execution_count": null,
      "outputs": [
        {
          "output_type": "display_data",
          "data": {
            "image/png": "[encoded data removed]",
            "text/plain": [
              "<Figure size 864x576 with 1 Axes>"
            ]
          },
          "metadata": {
            "needs_background": "light"
          }
        }
      ]
    },
    {
      "cell_type": "code",
      "metadata": {
        "colab": {
          "base_uri": "https://localhost:8080/"
        },
        "id": "K_JDRu8qkxn8",
        "outputId": "3e22c897-1b33-406d-9297-44342a63bc63"
      },
      "source": [
        "#Perform Dikey-Fuller test\n",
        "\n",
        "from statsmodels.tsa.stattools import adfuller\n",
        "from numpy import log\n",
        "result = adfuller(electricity.Sales.dropna())\n",
        "print('ADF Statistic: %f' % result[0])\n",
        "print('p-value: %f' % result[1])\n",
        "print('Critical Values:')\n",
        "for key, value in result[4].items():\n",
        "  print('\\t%s: %.3f' % (key, value))"
      ],
      "execution_count": null,
      "outputs": [
        {
          "output_type": "stream",
          "name": "stdout",
          "text": [
            "ADF Statistic: 3.590168\n",
            "p-value: 1.000000\n",
            "Critical Values:\n",
            "\t1%: -3.571\n",
            "\t5%: -2.923\n",
            "\t10%: -2.599\n"
          ]
        }
      ]
    },
    {
      "cell_type": "markdown",
      "metadata": {
        "id": "E0scmUKYYE2G"
      },
      "source": [
        "## **Turning non stationary series to Stationary series**"
      ]
    },
    {
      "cell_type": "code",
      "metadata": {
        "colab": {
          "base_uri": "https://localhost:8080/",
          "height": 281
        },
        "id": "5o7e01Cn4GC_",
        "outputId": "9a332d7e-3db8-4fbb-8e83-1c7e1047529a"
      },
      "source": [
        "#Turning non stationary series to Stationary series\n",
        "#Differentiation the series\n",
        "\n",
        "#Original Series\n",
        "fig, axes = plt.subplots(3, 1, sharex=True)\n",
        "axes[0].plot(electricity); axes[0].set_title('Original Series')\n",
        "\n",
        "# 1st Diffrencing\n",
        "\n",
        "axes[1].plot(electricity.diff()); axes[1].set_title('1st differencing')\n",
        "\n",
        "# 2nd Diffrencing\n",
        "\n",
        "axes[2].plot(electricity.diff().diff()); axes[2].set_title('2nd differencing')\n",
        "\n",
        "plt.show()"
      ],
      "execution_count": null,
      "outputs": [
        {
          "output_type": "display_data",
          "data": {
            "image/png": "[encoded data removed]",
            "text/plain": [
              "<Figure size 432x288 with 3 Axes>"
            ]
          },
          "metadata": {
            "needs_background": "light"
          }
        }
      ]
    },
    {
      "cell_type": "code",
      "metadata": {
        "colab": {
          "base_uri": "https://localhost:8080/"
        },
        "id": "un6we3utm_MR",
        "outputId": "78533da0-7f06-4715-f14d-4b15f5e8b60c"
      },
      "source": [
        "#Perform Dikey-Fuller test\n",
        "\n",
        "result = adfuller(electricity.Sales.diff().diff().dropna())\n",
        "print('ADF Statistic: %f' % result[0])\n",
        "print('p-value: %f' % result[1])\n",
        "print('Critical Values:')\n",
        "for key, value in result[4].items():\n",
        "  print('\\t%s: %.3f' % (key, value))"
      ],
      "execution_count": null,
      "outputs": [
        {
          "output_type": "stream",
          "name": "stdout",
          "text": [
            "ADF Statistic: -4.636959\n",
            "p-value: 0.000110\n",
            "Critical Values:\n",
            "\t1%: -3.621\n",
            "\t5%: -2.944\n",
            "\t10%: -2.610\n"
          ]
        }
      ]
    },
    {
      "cell_type": "code",
      "metadata": {
        "colab": {
          "base_uri": "https://localhost:8080/",
          "height": 499
        },
        "id": "Bun77Z0E175K",
        "outputId": "e05432c2-434d-48f7-b57e-2213c046f90b"
      },
      "source": [
        "#Differentiation the series\n",
        "\n",
        "plt.figure(figsize=(12, 8))\n",
        "original = plt.plot(electricity.Sales.diff().diff().dropna(), color='blue', label='Original')\n",
        "mean = plt.plot(rolmean, color='red', label='Rolling Mean')\n",
        "std = plt.plot(rolstd, color='black', label='Rolling Std')\n",
        "plt.legend()\n",
        "plt.title('Rolling Mean & Standard Deviation')\n",
        "plt.show(block=False)"
      ],
      "execution_count": null,
      "outputs": [
        {
          "output_type": "display_data",
          "data": {
            "image/png": "[encoded data removed]",
            "text/plain": [
              "<Figure size 864x576 with 1 Axes>"
            ]
          },
          "metadata": {
            "needs_background": "light"
          }
        }
      ]
    },
    {
      "cell_type": "markdown",
      "metadata": {
        "id": "KYPXAR5TF-Vr"
      },
      "source": [
        "## **ARIMA - Autoregressive(p) Intergrated (d) Moving Average(q)**\n"
      ]
    },
    {
      "cell_type": "markdown",
      "metadata": {
        "id": "D9-DusjCYMGz"
      },
      "source": [
        "## **Plotting the ACF(q) and PACF(p) plots**"
      ]
    },
    {
      "cell_type": "code",
      "metadata": {
        "colab": {
          "base_uri": "https://localhost:8080/",
          "height": 545
        },
        "id": "fWNgMF9aykHK",
        "outputId": "a675f831-fddb-47e6-9f1f-5b185bc46d3b"
      },
      "source": [
        "#Plotting the ACF and PACF plots\n",
        "plot_acf(electricity)\n",
        "plt.show()\n",
        "\n",
        "plot_pacf((electricity))\n",
        "plt.show()\n"
      ],
      "execution_count": null,
      "outputs": [
        {
          "output_type": "display_data",
          "data": {
            "image/png": "[encoded data removed]",
            "text/plain": [
              "<Figure size 432x288 with 1 Axes>"
            ]
          },
          "metadata": {
            "needs_background": "light"
          }
        },
        {
          "output_type": "display_data",
          "data": {
            "image/png": "[encoded data removed]",
            "text/plain": [
              "<Figure size 432x288 with 1 Axes>"
            ]
          },
          "metadata": {
            "needs_background": "light"
          }
        }
      ]
    },
    {
      "cell_type": "markdown",
      "metadata": {
        "id": "zT-z4dfQXQX1"
      },
      "source": [
        "## **p = 0   d = 2   q = 1**"
      ]
    },
    {
      "cell_type": "markdown",
      "metadata": {
        "id": "AwzjFjpIZZLG"
      },
      "source": [
        "## **Fitting the Model to the training dataset**"
      ]
    },
    {
      "cell_type": "code",
      "metadata": {
        "id": "N2OUhCY-MoYJ"
      },
      "source": [
        "model = ARIMA(train,order=(0,2,1))"
      ],
      "execution_count": null,
      "outputs": []
    },
    {
      "cell_type": "code",
      "metadata": {
        "id": "aijO-Qs2MzrT"
      },
      "source": [
        "model_fit = model.fit(disp=0)"
      ],
      "execution_count": null,
      "outputs": []
    },
    {
      "cell_type": "code",
      "metadata": {
        "colab": {
          "base_uri": "https://localhost:8080/"
        },
        "id": "0hVU0ZcDM2W7",
        "outputId": "fdc8b19a-be85-4737-ba31-63d41117d938"
      },
      "source": [
        "print(model_fit.summary())"
      ],
      "execution_count": null,
      "outputs": [
        {
          "output_type": "stream",
          "name": "stdout",
          "text": [
            "                             ARIMA Model Results                              \n",
            "==============================================================================\n",
            "Dep. Variable:               D2.Sales   No. Observations:                   38\n",
            "Model:                 ARIMA(0, 2, 1)   Log Likelihood                -220.521\n",
            "Method:                       css-mle   S.D. of innovations             76.405\n",
            "Date:                Sun, 12 Sep 2021   AIC                            447.042\n",
            "Time:                        05:53:26   BIC                            451.955\n",
            "Sample:                    01-01-1971   HQIC                           448.790\n",
            "                         - 01-01-2008                                         \n",
            "==================================================================================\n",
            "                     coef    std err          z      P>|z|      [0.025      0.975]\n",
            "----------------------------------------------------------------------------------\n",
            "const              2.6694      1.087      2.456      0.014       0.539       4.800\n",
            "ma.L1.D2.Sales    -1.0000      0.076    -13.240      0.000      -1.148      -0.852\n",
            "                                    Roots                                    \n",
            "=============================================================================\n",
            "                  Real          Imaginary           Modulus         Frequency\n",
            "-----------------------------------------------------------------------------\n",
            "MA.1            1.0000           +0.0000j            1.0000            0.0000\n",
            "-----------------------------------------------------------------------------\n"
          ]
        }
      ]
    },
    {
      "cell_type": "code",
      "metadata": {
        "colab": {
          "base_uri": "https://localhost:8080/",
          "height": 265
        },
        "id": "5kMDWrMI1411",
        "outputId": "1cd11b06-eb4e-4e0e-f2f1-c13ae259dbae"
      },
      "source": [
        "electricity['Forecast'] = model_fit.plot_predict(dynamic=False)\n",
        "plt.show()"
      ],
      "execution_count": null,
      "outputs": [
        {
          "output_type": "display_data",
          "data": {
            "image/png": "[encoded data removed]",
            "text/plain": [
              "<Figure size 432x288 with 1 Axes>"
            ]
          },
          "metadata": {
            "needs_background": "light"
          }
        }
      ]
    },
    {
      "cell_type": "markdown",
      "metadata": {
        "id": "wHYsMqxAbP2C"
      },
      "source": [
        "## **Testing the Model and make prediction**"
      ]
    },
    {
      "cell_type": "code",
      "metadata": {
        "colab": {
          "base_uri": "https://localhost:8080/"
        },
        "id": "tu96EAYPbVLf",
        "outputId": "d03ba02d-2918-42a0-9873-c162f93a1e8f"
      },
      "source": [
        "start=len(train)\n",
        "end=len(train)+len(test)-1\n",
        "pred=model_fit.predict(start=start,end=end,typ='levels')\n",
        "\n",
        "print(pred)"
      ],
      "execution_count": null,
      "outputs": [
        {
          "output_type": "stream",
          "name": "stdout",
          "text": [
            "2009-01-01    2793.065424\n",
            "2010-01-01    2911.800278\n",
            "2011-01-01    3033.204563\n",
            "2012-01-01    3157.278280\n",
            "2013-01-01    3284.021427\n",
            "2014-01-01    3413.434005\n",
            "2015-01-01    3545.516013\n",
            "2016-01-01    3680.267453\n",
            "2017-01-01    3817.688324\n",
            "2018-01-01    3957.778625\n",
            "Freq: AS-JAN, dtype: float64\n"
          ]
        }
      ]
    },
    {
      "cell_type": "code",
      "metadata": {
        "colab": {
          "base_uri": "https://localhost:8080/",
          "height": 388
        },
        "id": "z88UnNv5ZmS-",
        "outputId": "60896130-28c6-4494-a65f-405b666b086d"
      },
      "source": [
        "#Actual values\n",
        "test"
      ],
      "execution_count": null,
      "outputs": [
        {
          "output_type": "execute_result",
          "data": {
            "text/html": [
              "<div>\n",
              "<style scoped>\n",
              "    .dataframe tbody tr th:only-of-type {\n",
              "        vertical-align: middle;\n",
              "    }\n",
              "\n",
              "    .dataframe tbody tr th {\n",
              "        vertical-align: top;\n",
              "    }\n",
              "\n",
              "    .dataframe thead th {\n",
              "        text-align: right;\n",
              "    }\n",
              "</style>\n",
              "<table border=\"1\" class=\"dataframe\">\n",
              "  <thead>\n",
              "    <tr style=\"text-align: right;\">\n",
              "      <th></th>\n",
              "      <th>Sales</th>\n",
              "    </tr>\n",
              "    <tr>\n",
              "      <th>Year</th>\n",
              "      <th></th>\n",
              "    </tr>\n",
              "  </thead>\n",
              "  <tbody>\n",
              "    <tr>\n",
              "      <th>2009-01-01</th>\n",
              "      <td>2518</td>\n",
              "    </tr>\n",
              "    <tr>\n",
              "      <th>2010-01-01</th>\n",
              "      <td>2871</td>\n",
              "    </tr>\n",
              "    <tr>\n",
              "      <th>2011-01-01</th>\n",
              "      <td>3132</td>\n",
              "    </tr>\n",
              "    <tr>\n",
              "      <th>2012-01-01</th>\n",
              "      <td>3285</td>\n",
              "    </tr>\n",
              "    <tr>\n",
              "      <th>2013-01-01</th>\n",
              "      <td>3344</td>\n",
              "    </tr>\n",
              "    <tr>\n",
              "      <th>2014-01-01</th>\n",
              "      <td>3498</td>\n",
              "    </tr>\n",
              "    <tr>\n",
              "      <th>2015-01-01</th>\n",
              "      <td>3607</td>\n",
              "    </tr>\n",
              "    <tr>\n",
              "      <th>2016-01-01</th>\n",
              "      <td>3864</td>\n",
              "    </tr>\n",
              "    <tr>\n",
              "      <th>2017-01-01</th>\n",
              "      <td>4042</td>\n",
              "    </tr>\n",
              "    <tr>\n",
              "      <th>2018-01-01</th>\n",
              "      <td>4289</td>\n",
              "    </tr>\n",
              "  </tbody>\n",
              "</table>\n",
              "</div>"
            ],
            "text/plain": [
              "            Sales\n",
              "Year             \n",
              "2009-01-01   2518\n",
              "2010-01-01   2871\n",
              "2011-01-01   3132\n",
              "2012-01-01   3285\n",
              "2013-01-01   3344\n",
              "2014-01-01   3498\n",
              "2015-01-01   3607\n",
              "2016-01-01   3864\n",
              "2017-01-01   4042\n",
              "2018-01-01   4289"
            ]
          },
          "metadata": {},
          "execution_count": 27
        }
      ]
    },
    {
      "cell_type": "code",
      "metadata": {
        "colab": {
          "base_uri": "https://localhost:8080/",
          "height": 357
        },
        "id": "U8_vO5MaG2fG",
        "outputId": "c45a7a86-2d31-4dd8-dbf2-38235fe4319e"
      },
      "source": [
        "electricity3 = pd.concat([test,pred],axis=1)\n",
        "electricity3.columns = ['Actual_Sales','Forecst_Sales']\n",
        "electricity3.head(10)"
      ],
      "execution_count": null,
      "outputs": [
        {
          "output_type": "execute_result",
          "data": {
            "text/html": [
              "<div>\n",
              "<style scoped>\n",
              "    .dataframe tbody tr th:only-of-type {\n",
              "        vertical-align: middle;\n",
              "    }\n",
              "\n",
              "    .dataframe tbody tr th {\n",
              "        vertical-align: top;\n",
              "    }\n",
              "\n",
              "    .dataframe thead th {\n",
              "        text-align: right;\n",
              "    }\n",
              "</style>\n",
              "<table border=\"1\" class=\"dataframe\">\n",
              "  <thead>\n",
              "    <tr style=\"text-align: right;\">\n",
              "      <th></th>\n",
              "      <th>Actual_Sales</th>\n",
              "      <th>Forecst_Sales</th>\n",
              "    </tr>\n",
              "  </thead>\n",
              "  <tbody>\n",
              "    <tr>\n",
              "      <th>2009-01-01</th>\n",
              "      <td>2518</td>\n",
              "      <td>2793.065424</td>\n",
              "    </tr>\n",
              "    <tr>\n",
              "      <th>2010-01-01</th>\n",
              "      <td>2871</td>\n",
              "      <td>2911.800278</td>\n",
              "    </tr>\n",
              "    <tr>\n",
              "      <th>2011-01-01</th>\n",
              "      <td>3132</td>\n",
              "      <td>3033.204563</td>\n",
              "    </tr>\n",
              "    <tr>\n",
              "      <th>2012-01-01</th>\n",
              "      <td>3285</td>\n",
              "      <td>3157.278280</td>\n",
              "    </tr>\n",
              "    <tr>\n",
              "      <th>2013-01-01</th>\n",
              "      <td>3344</td>\n",
              "      <td>3284.021427</td>\n",
              "    </tr>\n",
              "    <tr>\n",
              "      <th>2014-01-01</th>\n",
              "      <td>3498</td>\n",
              "      <td>3413.434005</td>\n",
              "    </tr>\n",
              "    <tr>\n",
              "      <th>2015-01-01</th>\n",
              "      <td>3607</td>\n",
              "      <td>3545.516013</td>\n",
              "    </tr>\n",
              "    <tr>\n",
              "      <th>2016-01-01</th>\n",
              "      <td>3864</td>\n",
              "      <td>3680.267453</td>\n",
              "    </tr>\n",
              "    <tr>\n",
              "      <th>2017-01-01</th>\n",
              "      <td>4042</td>\n",
              "      <td>3817.688324</td>\n",
              "    </tr>\n",
              "    <tr>\n",
              "      <th>2018-01-01</th>\n",
              "      <td>4289</td>\n",
              "      <td>3957.778625</td>\n",
              "    </tr>\n",
              "  </tbody>\n",
              "</table>\n",
              "</div>"
            ],
            "text/plain": [
              "            Actual_Sales  Forecst_Sales\n",
              "2009-01-01          2518    2793.065424\n",
              "2010-01-01          2871    2911.800278\n",
              "2011-01-01          3132    3033.204563\n",
              "2012-01-01          3285    3157.278280\n",
              "2013-01-01          3344    3284.021427\n",
              "2014-01-01          3498    3413.434005\n",
              "2015-01-01          3607    3545.516013\n",
              "2016-01-01          3864    3680.267453\n",
              "2017-01-01          4042    3817.688324\n",
              "2018-01-01          4289    3957.778625"
            ]
          },
          "metadata": {},
          "execution_count": 28
        }
      ]
    },
    {
      "cell_type": "markdown",
      "metadata": {
        "id": "bJj-iXi6ovBS"
      },
      "source": [
        "## **Plotting the ARIMA Prediction for Test set**"
      ]
    },
    {
      "cell_type": "code",
      "metadata": {
        "colab": {
          "base_uri": "https://localhost:8080/",
          "height": 498
        },
        "id": "GfxJmwublB2Q",
        "outputId": "476386e5-1230-4319-c0c3-b9d8486f9606"
      },
      "source": [
        "fig, ax = plt.subplots(figsize = (15,8))\n",
        "chart = sns.lineplot(x='Year', y='Sales', data = electricity)\n",
        "chart.set_title('ARIMA Prediction for Test set')\n",
        "pred.plot(ax=ax, color = 'red', marker = \"o\", legend = True ,label = 'Forecast Value')\n",
        "test.plot(ax=ax, color = 'blue', marker = \"o\", legend = True , label = 'Actual Value')"
      ],
      "execution_count": null,
      "outputs": [
        {
          "output_type": "execute_result",
          "data": {
            "text/plain": [
              "<matplotlib.axes._subplots.AxesSubplot at 0x7ff56f7d6310>"
            ]
          },
          "metadata": {},
          "execution_count": 29
        },
        {
          "output_type": "display_data",
          "data": {
            "image/png": "[encoded data removed]",
            "text/plain": [
              "<Figure size 1080x576 with 1 Axes>"
            ]
          },
          "metadata": {
            "needs_background": "light"
          }
        }
      ]
    },
    {
      "cell_type": "markdown",
      "metadata": {
        "id": "gH3ZA5G0aNXV"
      },
      "source": [
        "## **Evaluating the ARIMA (0,2,1) model**"
      ]
    },
    {
      "cell_type": "code",
      "metadata": {
        "colab": {
          "base_uri": "https://localhost:8080/"
        },
        "id": "vEu0y8kFXLOu",
        "outputId": "9e2556df-82d3-4de3-cd54-ffd5b9076acc"
      },
      "source": [
        "rmse = np.sqrt(mean_squared_error(test,pred))\n",
        "print('Root Mean Squared Error: %.3f' % rmse)"
      ],
      "execution_count": null,
      "outputs": [
        {
          "output_type": "stream",
          "name": "stdout",
          "text": [
            "Root Mean Squared Error: 176.553\n"
          ]
        }
      ]
    },
    {
      "cell_type": "code",
      "metadata": {
        "colab": {
          "base_uri": "https://localhost:8080/"
        },
        "id": "vAu72O98JfRo",
        "outputId": "caf76599-39b0-4660-f5e1-d8b995242491"
      },
      "source": [
        "#Calculating the R squared value\n",
        "from sklearn.metrics import r2_score\n",
        "r2 =  r2_score(test,pred)\n",
        "print('r2 score: %.3f' % r2)"
      ],
      "execution_count": null,
      "outputs": [
        {
          "output_type": "stream",
          "name": "stdout",
          "text": [
            "r2 score: 0.880\n"
          ]
        }
      ]
    },
    {
      "cell_type": "code",
      "metadata": {
        "id": "bUCwlG_xkcCn"
      },
      "source": [
        "def mean_absolute_percentage_error(y_true, y_pred): \n",
        "    y_true, y_pred = np.array(y_true), np.array(y_pred)\n",
        "    return np.mean(np.abs((y_true - y_pred) / y_true)) * 100"
      ],
      "execution_count": null,
      "outputs": []
    },
    {
      "cell_type": "code",
      "metadata": {
        "colab": {
          "base_uri": "https://localhost:8080/"
        },
        "id": "KOkyhMkykg3M",
        "outputId": "44488b43-c3d8-42ce-ac40-2d9ec15a937f"
      },
      "source": [
        "mape = mean_absolute_percentage_error(test, pred)\n",
        "print('Mean Absolute Precentage Error: %.3f' % mape)"
      ],
      "execution_count": null,
      "outputs": [
        {
          "output_type": "stream",
          "name": "stdout",
          "text": [
            "Mean Absolute Precentage Error: 15.418\n"
          ]
        }
      ]
    },
    {
      "cell_type": "markdown",
      "metadata": {
        "id": "UunUheAusUSu"
      },
      "source": [
        "## **Finding the best p,d,q values from Auto Arima - Model Validaion**"
      ]
    },
    {
      "cell_type": "code",
      "metadata": {
        "colab": {
          "base_uri": "https://localhost:8080/"
        },
        "id": "SnUrTLtUrhTd",
        "outputId": "7fc2fea6-ce96-432d-af9c-5b1ddf4fc215"
      },
      "source": [
        "#finding the best pdq values from auto ARIMA\n",
        "stepwise_fit = auto_arima(electricity['Sales'], trace=True, suppress_warnings=True)"
      ],
      "execution_count": null,
      "outputs": [
        {
          "output_type": "stream",
          "text": [
            "Performing stepwise search to minimize aic\n",
            " ARIMA(2,2,2)(0,0,0)[0]             : AIC=inf, Time=0.23 sec\n",
            " ARIMA(0,2,0)(0,0,0)[0]             : AIC=605.843, Time=0.01 sec\n",
            " ARIMA(1,2,0)(0,0,0)[0]             : AIC=597.441, Time=0.03 sec\n",
            " ARIMA(0,2,1)(0,0,0)[0]             : AIC=582.578, Time=0.03 sec\n",
            " ARIMA(1,2,1)(0,0,0)[0]             : AIC=584.571, Time=0.06 sec\n",
            " ARIMA(0,2,2)(0,0,0)[0]             : AIC=584.569, Time=0.06 sec\n",
            " ARIMA(1,2,2)(0,0,0)[0]             : AIC=586.513, Time=0.10 sec\n",
            " ARIMA(0,2,1)(0,0,0)[0] intercept   : AIC=inf, Time=0.09 sec\n",
            "\n",
            "Best model:  ARIMA(0,2,1)(0,0,0)[0]          \n",
            "Total fit time: 0.628 seconds\n"
          ],
          "name": "stdout"
        }
      ]
    },
    {
      "cell_type": "markdown",
      "metadata": {
        "id": "gFv5FokNh0Xf"
      },
      "source": [
        "# **Use the ARIMA(0,2,1)  model to make Predictions**\n",
        "\n",
        "\n"
      ]
    },
    {
      "cell_type": "code",
      "metadata": {
        "colab": {
          "base_uri": "https://localhost:8080/"
        },
        "id": "oA7UdwzJ_MBd",
        "outputId": "28f46612-702d-4978-cfda-583b880fedb8"
      },
      "source": [
        "number_of_rows = len(electricity)\n",
        "print(number_of_rows)"
      ],
      "execution_count": null,
      "outputs": [
        {
          "output_type": "stream",
          "text": [
            "50\n"
          ],
          "name": "stdout"
        }
      ]
    },
    {
      "cell_type": "code",
      "metadata": {
        "colab": {
          "base_uri": "https://localhost:8080/",
          "height": 265
        },
        "id": "YCfDFnkZKyCe",
        "outputId": "e0a95826-cf4f-47af-d9e2-3db5188c7a72"
      },
      "source": [
        "future = model_fit.plot_predict(2,55)\n",
        "x=model_fit.forecast(steps=5)"
      ],
      "execution_count": null,
      "outputs": [
        {
          "output_type": "display_data",
          "data": {
            "image/png": "[encoded data removed]",
            "text/plain": [
              "<Figure size 432x288 with 1 Axes>"
            ]
          },
          "metadata": {
            "tags": [],
            "needs_background": "light"
          }
        }
      ]
    },
    {
      "cell_type": "markdown",
      "metadata": {
        "id": "sQIfK71Lkj8p"
      },
      "source": [
        "# **Use the ARIMA(0,2,1)n model to make Predictions**"
      ]
    },
    {
      "cell_type": "code",
      "metadata": {
        "colab": {
          "base_uri": "https://localhost:8080/"
        },
        "id": "ehC33LgGjQr_",
        "outputId": "85ddf051-fc1b-4f0f-db8b-44783195ae25"
      },
      "source": [
        "start2=len(test)\n",
        "end2=len(train)+len(test)+5\n",
        "pred_future=model_fit.predict(start=start2,end=end2,typ='levels')\n",
        "print(pred_future)"
      ],
      "execution_count": null,
      "outputs": [
        {
          "output_type": "stream",
          "text": [
            "1979-01-01     635.902710\n",
            "1980-01-01     679.081870\n",
            "1981-01-01     671.925676\n",
            "1982-01-01     727.101301\n",
            "1983-01-01     791.686016\n",
            "1984-01-01     804.520732\n",
            "1985-01-01     845.288780\n",
            "1986-01-01     907.252662\n",
            "1987-01-01     987.024878\n",
            "1988-01-01     924.026260\n",
            "1989-01-01     963.694309\n",
            "1990-01-01     903.579024\n",
            "1991-01-01     968.554216\n",
            "1992-01-01    1018.743910\n",
            "1993-01-01    1122.076649\n",
            "1994-01-01    1294.951219\n",
            "1995-01-01    1485.062601\n",
            "1996-01-01    1611.383471\n",
            "1997-01-01    1437.779440\n",
            "1998-01-01    1510.206748\n",
            "1999-01-01    1699.455256\n",
            "2000-01-01    1698.242845\n",
            "2001-01-01    1844.743152\n",
            "2002-01-01    1806.451859\n",
            "2003-01-01    1957.895476\n",
            "2004-01-01    2260.479746\n",
            "2005-01-01    2370.306899\n",
            "2006-01-01    2555.078916\n",
            "2007-01-01    2718.097565\n",
            "2008-01-01    2741.396007\n",
            "2009-01-01    2793.065424\n",
            "2010-01-01    2911.800278\n",
            "2011-01-01    3033.204563\n",
            "2012-01-01    3157.278280\n",
            "2013-01-01    3284.021427\n",
            "2014-01-01    3413.434005\n",
            "2015-01-01    3545.516013\n",
            "2016-01-01    3680.267453\n",
            "2017-01-01    3817.688324\n",
            "2018-01-01    3957.778625\n",
            "2019-01-01    4100.538357\n",
            "2020-01-01    4245.967520\n",
            "2021-01-01    4394.066115\n",
            "2022-01-01    4544.834139\n",
            "2023-01-01    4698.271595\n",
            "2024-01-01    4854.378482\n",
            "Freq: AS-JAN, dtype: float64\n"
          ],
          "name": "stdout"
        }
      ]
    }
  ]
}